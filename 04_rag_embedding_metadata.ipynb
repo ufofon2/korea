{
  "cells": [
    {
      "cell_type": "markdown",
      "metadata": {
        "id": "view-in-github",
        "colab_type": "text"
      },
      "source": [
        "<a href=\"https://colab.research.google.com/github/ufofon2/korea/blob/master/04_rag_embedding_metadata.ipynb\" target=\"_parent\"><img src=\"https://colab.research.google.com/assets/colab-badge.svg\" alt=\"Open In Colab\"/></a>"
      ]
    },
    {
      "cell_type": "markdown",
      "metadata": {
        "id": "N7qRgJDMhYZk"
      },
      "source": [
        "### 환경변수 설정\n"
      ]
    },
    {
      "cell_type": "code",
      "execution_count": null,
      "metadata": {
        "id": "DQ42W5wJhYZk"
      },
      "outputs": [],
      "source": [
        "from dotenv import load_dotenv\n",
        "import os\n",
        "\n",
        "load_dotenv()\n",
        "\n",
        "OPENAI_API_KEY = os.environ['OPENAI_API_KEY']\n",
        "PINECONE_API_KEY = os.environ['PINECONE_API_KEY']"
      ]
    },
    {
      "cell_type": "markdown",
      "metadata": {
        "id": "-0SPT09bhYZl"
      },
      "source": [
        "### Pinecone 클라이언트 초기화\n"
      ]
    },
    {
      "cell_type": "code",
      "execution_count": null,
      "metadata": {
        "id": "3-jrwCHyhYZl"
      },
      "outputs": [],
      "source": [
        "from pinecone import Pinecone, ServerlessSpec\n",
        "\n",
        "# Pinecone 클라이언트를 초기화합니다.\n",
        "# PINECONE_API_KEY는 환경 변수에서 가져온 API 키입니다.\n",
        "pc = Pinecone(api_key=PINECONE_API_KEY)"
      ]
    },
    {
      "cell_type": "markdown",
      "metadata": {
        "id": "e6bSEMVShYZl"
      },
      "source": [
        "### 서버리스 인덱스 생성\n"
      ]
    },
    {
      "cell_type": "code",
      "execution_count": null,
      "metadata": {
        "id": "0dO8ph0BhYZl"
      },
      "outputs": [],
      "source": [
        "index_name = \"wiki\"\n",
        "\n",
        "# Pinecone에 있는 모든 인덱스를 순회합니다.\n",
        "for idx in pc.list_indexes():\n",
        "    # 인덱스 이름이 \"wiki\"와 일치하는 경우 해당 인덱스를 삭제합니다.\n",
        "    if idx.name == index_name:\n",
        "        pc.delete_index(idx.name)"
      ]
    },
    {
      "cell_type": "code",
      "execution_count": null,
      "metadata": {
        "id": "7kUWH5EthYZl"
      },
      "outputs": [],
      "source": [
        "# Pinecone 인덱스를 생성합니다.\n",
        "# 인덱스 이름은 \"wiki\"이고, 차원은 1536, 메트릭은 코사인 유사도를 사용합니다.\n",
        "# 인덱스는 AWS의 us-east-1 리전에서 서버리스 사양으로 생성됩니다.\n",
        "pc.create_index(\n",
        "    name=index_name,\n",
        "    dimension=1536,  # 모델 차원\n",
        "    metric=\"cosine\",  # 모델 메트릭\n",
        "    spec=ServerlessSpec(\n",
        "        cloud=\"aws\",\n",
        "        region=\"us-east-1\"\n",
        "    )\n",
        ")"
      ]
    },
    {
      "cell_type": "code",
      "execution_count": null,
      "metadata": {
        "id": "OVVbRAHghYZm"
      },
      "outputs": [],
      "source": [
        "# Pinecone 클라이언트를 사용하여 현재 사용 가능한 모든 인덱스의 목록을 반환합니다.\n",
        "pc.list_indexes()"
      ]
    },
    {
      "cell_type": "code",
      "execution_count": null,
      "metadata": {
        "id": "ZJ8fyfCmhYZm"
      },
      "outputs": [],
      "source": [
        "# 'wiki' 인덱스를 가져옵니다.\n",
        "index = pc.Index(index_name)\n",
        "\n",
        "# 인덱스의 통계 정보를 설명합니다.\n",
        "index.describe_index_stats()"
      ]
    },
    {
      "cell_type": "markdown",
      "metadata": {
        "id": "__74GOCAhYZm"
      },
      "source": [
        "### 임베딩 객체 생성\n"
      ]
    },
    {
      "cell_type": "code",
      "execution_count": null,
      "metadata": {
        "id": "74eUcyOmhYZm"
      },
      "outputs": [],
      "source": [
        "from langchain_openai import OpenAIEmbeddings\n",
        "\n",
        "# OpenAIEmbeddings 클래스를 초기화합니다.\n",
        "# OPENAI_API_KEY는 환경 변수에서 가져온 API 키입니다.\n",
        "embedding = OpenAIEmbeddings(model=\"text-embedding-3-small\", api_key=OPENAI_API_KEY)"
      ]
    },
    {
      "cell_type": "markdown",
      "metadata": {
        "id": "wBV6dDOYhYZm"
      },
      "source": [
        "### 텍스트 분할\n"
      ]
    },
    {
      "cell_type": "code",
      "execution_count": null,
      "metadata": {
        "id": "C2QuXun7hYZm"
      },
      "outputs": [],
      "source": [
        "%pip install -qU datasets"
      ]
    },
    {
      "cell_type": "code",
      "execution_count": null,
      "metadata": {
        "id": "gXr_V6GzhYZm"
      },
      "outputs": [],
      "source": [
        "from datasets import load_dataset\n",
        "\n",
        "# 'wikipedia' 데이터셋의 '20220301.simple' 버전을 로드합니다.\n",
        "# 데이터셋의 'train' 스플릿에서 처음 100개의 샘플을 가져옵니다.\n",
        "# trust_remote_code=True는 원격 코드 실행을 신뢰한다는 의미입니다.\n",
        "data = load_dataset(\"wikipedia\", \"20220301.simple\", split=\"train[:100]\", trust_remote_code=True)"
      ]
    },
    {
      "cell_type": "code",
      "execution_count": null,
      "metadata": {
        "id": "kwypw9XlhYZm"
      },
      "outputs": [],
      "source": [
        "data"
      ]
    },
    {
      "cell_type": "code",
      "execution_count": null,
      "metadata": {
        "id": "Df3SDds4hYZn"
      },
      "outputs": [],
      "source": [
        "for record in data:\n",
        "    print(record)"
      ]
    },
    {
      "cell_type": "code",
      "execution_count": null,
      "metadata": {
        "id": "SnQCofjthYZn"
      },
      "outputs": [],
      "source": [
        "from langchain.text_splitter import RecursiveCharacterTextSplitter\n",
        "\n",
        "# RecursiveCharacterTextSplitter를 초기화합니다.\n",
        "# 이 클래스는 텍스트를 재귀적으로 문자 단위로 분할합니다.\n",
        "splitter = RecursiveCharacterTextSplitter(\n",
        "    chunk_size=400,  # 분할할 텍스트의 크기\n",
        "    chunk_overlap=20,  # 분할된 텍스트의 중첩 크기\n",
        "    length_function=len,  # 텍스트 길이를 계산하는 함수\n",
        "    separators=[\"\\n\\n\", \"\\n\", \" \", \"\"]  # 분할할 텍스트의 구분자\n",
        ")"
      ]
    },
    {
      "cell_type": "markdown",
      "metadata": {
        "id": "dWahEJknhYZn"
      },
      "source": [
        "### 레코드 업서트(Upsert)\n"
      ]
    },
    {
      "cell_type": "code",
      "execution_count": null,
      "metadata": {
        "id": "sS9BqjmFhYZn"
      },
      "outputs": [],
      "source": [
        "from tqdm.auto import tqdm\n",
        "from uuid import uuid4\n",
        "import time\n",
        "\n",
        "batch_size = 100\n",
        "texts = []\n",
        "metas = []\n",
        "count = 0\n",
        "\n",
        "# 데이터셋의 각 샘플에 대해 반복합니다.\n",
        "for i, sample in enumerate(tqdm(data)):\n",
        "\n",
        "    full_text = sample[\"text\"] # Wikipedia 문서 텍스트\n",
        "    metadata = {\n",
        "        'wiki_id': str(sample[\"id\"]),  # Wikipedia 문서 ID\n",
        "        'url': sample[\"url\"],  # Wikipedia 문서 URL\n",
        "        'title': sample[\"title\"],  # Wikipedia 문서 제목\n",
        "    }\n",
        "\n",
        "\n",
        "    chunks = splitter.split_text(full_text)  # 텍스트를 청크로 분할합니다.\n",
        "    # print(len(chunks))\n",
        "\n",
        "    # 각 청크에 대해 반복합니다.\n",
        "    for i, chunk in enumerate(chunks):\n",
        "        record = {\n",
        "            'chunk_id': i,  # 청크 ID\n",
        "            'full_text': full_text,  # 전체 텍스트\n",
        "            **metadata,  # 메타데이터 언패킹\n",
        "        }\n",
        "\n",
        "        texts.append(chunk)  # 청크를 텍스트 목록에 추가합니다.\n",
        "        metas.append(record)  # 메타데이터를 메타데이터 목록에 추가합니다.\n",
        "\n",
        "        count += 1  # 처리된 청크 수를 증가시킵니다.\n",
        "\n",
        "        # batch_size만큼의 청크를 처리할 때마다 청크를 Pinecone 인덱스에 추가합니다.\n",
        "        if count % batch_size == 0:\n",
        "            # Pinecone 인덱스에 청크를 추가합니다.\n",
        "            ids = [str(uuid4()) for _ in range(len(texts))]\n",
        "            embeddings = embedding.embed_documents(texts)\n",
        "            index.upsert(\n",
        "                vectors=zip(ids, embeddings, metas),\n",
        "                namespace=\"wiki-ns1\")\n",
        "            # 청크 목록과 메타데이터 목록을 비웁니다.\n",
        "            texts = []\n",
        "            metas = []\n",
        "            # 1초 대기합니다.\n",
        "            time.sleep(1)\n",
        "\n",
        "\n"
      ]
    },
    {
      "cell_type": "code",
      "execution_count": null,
      "metadata": {
        "id": "FLgvjw5ehYZn"
      },
      "outputs": [],
      "source": []
    }
  ],
  "metadata": {
    "kernelspec": {
      "display_name": "langchain_rag_env",
      "language": "python",
      "name": "python3"
    },
    "language_info": {
      "codemirror_mode": {
        "name": "ipython",
        "version": 3
      },
      "file_extension": ".py",
      "mimetype": "text/x-python",
      "name": "python",
      "nbconvert_exporter": "python",
      "pygments_lexer": "ipython3",
      "version": "3.12.7"
    },
    "colab": {
      "provenance": [],
      "include_colab_link": true
    }
  },
  "nbformat": 4,
  "nbformat_minor": 0
}